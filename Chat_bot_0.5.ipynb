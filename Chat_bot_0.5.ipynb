{
  "nbformat": 4,
  "nbformat_minor": 0,
  "metadata": {
    "colab": {
      "provenance": [],
      "gpuType": "T4"
    },
    "kernelspec": {
      "name": "python3",
      "display_name": "Python 3"
    },
    "language_info": {
      "name": "python"
    },
    "accelerator": "GPU"
  },
  "cells": [
    {
      "cell_type": "code",
      "source": [
        "!nvidia-smi"
      ],
      "metadata": {
        "colab": {
          "base_uri": "https://localhost:8080/"
        },
        "id": "kZ3WKIBK5PA5",
        "outputId": "ffcb3fdf-65bb-4bda-9fd8-a19acb7068ea"
      },
      "execution_count": 1,
      "outputs": [
        {
          "output_type": "stream",
          "name": "stdout",
          "text": [
            "Wed Jul  5 12:42:26 2023       \n",
            "+-----------------------------------------------------------------------------+\n",
            "| NVIDIA-SMI 525.85.12    Driver Version: 525.85.12    CUDA Version: 12.0     |\n",
            "|-------------------------------+----------------------+----------------------+\n",
            "| GPU  Name        Persistence-M| Bus-Id        Disp.A | Volatile Uncorr. ECC |\n",
            "| Fan  Temp  Perf  Pwr:Usage/Cap|         Memory-Usage | GPU-Util  Compute M. |\n",
            "|                               |                      |               MIG M. |\n",
            "|===============================+======================+======================|\n",
            "|   0  Tesla T4            Off  | 00000000:00:04.0 Off |                    0 |\n",
            "| N/A   59C    P8    10W /  70W |      0MiB / 15360MiB |      0%      Default |\n",
            "|                               |                      |                  N/A |\n",
            "+-------------------------------+----------------------+----------------------+\n",
            "                                                                               \n",
            "+-----------------------------------------------------------------------------+\n",
            "| Processes:                                                                  |\n",
            "|  GPU   GI   CI        PID   Type   Process name                  GPU Memory |\n",
            "|        ID   ID                                                   Usage      |\n",
            "|=============================================================================|\n",
            "|  No running processes found                                                 |\n",
            "+-----------------------------------------------------------------------------+\n"
          ]
        }
      ]
    },
    {
      "cell_type": "code",
      "source": [
        "from google.colab import drive\n",
        "drive.mount('/content/drive')"
      ],
      "metadata": {
        "id": "JylQWXBNylhe",
        "outputId": "5eee45c7-06ca-403e-b3db-c3d7ae0671a3",
        "colab": {
          "base_uri": "https://localhost:8080/"
        }
      },
      "execution_count": 2,
      "outputs": [
        {
          "output_type": "stream",
          "name": "stdout",
          "text": [
            "Drive already mounted at /content/drive; to attempt to forcibly remount, call drive.mount(\"/content/drive\", force_remount=True).\n"
          ]
        }
      ]
    },
    {
      "cell_type": "code",
      "source": [
        "! pip install -q langchain transformers sentence_transformers llama-index\n"
      ],
      "metadata": {
        "id": "5i9un3Xh5QlE"
      },
      "execution_count": 3,
      "outputs": []
    },
    {
      "cell_type": "code",
      "source": [
        "from llama_index import SimpleDirectoryReader, LangchainEmbedding, GPTListIndex,GPTVectorStoreIndex, PromptHelper\n",
        "from langchain.embeddings.huggingface import HuggingFaceEmbeddings\n",
        "from llama_index import LLMPredictor, ServiceContext\n",
        "import torch\n",
        "from langchain.llms.base import LLM\n",
        "from transformers import pipeline"
      ],
      "metadata": {
        "id": "Li_RlLpu5RD3"
      },
      "execution_count": 4,
      "outputs": []
    },
    {
      "cell_type": "code",
      "source": [
        "\n",
        "class customLLM(LLM):\n",
        "    model_name = \"google/flan-t5-Large\"\n",
        "    pipeline = pipeline(\"text2text-generation\", model=model_name, device=0, model_kwargs={\"torch_dtype\":torch.bfloat16})\n",
        "\n",
        "    def _call(self, prompt, stop=None):\n",
        "        return self.pipeline(prompt, max_length=9999)[0][\"generated_text\"]\n",
        "    @property\n",
        "    def _identifying_params(self):\n",
        "        return {\"name_of_model\": self.model_name}\n",
        "    @property\n",
        "    def _llm_type(self):\n",
        "        return \"custom\"\n",
        "\n",
        "\n",
        "llm_predictor = LLMPredictor(llm=customLLM())\n"
      ],
      "metadata": {
        "id": "s4AvZVTe5THM"
      },
      "execution_count": 5,
      "outputs": []
    },
    {
      "cell_type": "code",
      "source": [
        "\n",
        "hfemb = HuggingFaceEmbeddings()\n",
        "embed_model = LangchainEmbedding(hfemb)\n"
      ],
      "metadata": {
        "id": "fgX6vvpq5UxH"
      },
      "execution_count": 6,
      "outputs": []
    },
    {
      "cell_type": "code",
      "source": [
        "\n",
        "from llama_index import SimpleDirectoryReader\n",
        "\n",
        "bet = SimpleDirectoryReader('/content/drive/MyDrive/data/bet_health').load_data()\n",
        "tumo = SimpleDirectoryReader('/content/drive/MyDrive/data/tumo_health').load_data()\n"
      ],
      "metadata": {
        "id": "3jJYwII74ts8"
      },
      "execution_count": 36,
      "outputs": []
    },
    {
      "cell_type": "code",
      "source": [
        "# set number of output tokens\n",
        "num_output = 10000\n",
        "# set maximum input size\n",
        "max_input_size = 10000\n",
        "# set maximum chunk overlap\n",
        "max_chunk_overlap = 1\n",
        "\n",
        "\n",
        "prompt_helper = PromptHelper(max_input_size, num_output, max_chunk_overlap)\n"
      ],
      "metadata": {
        "id": "y_2Dl63v5wzb"
      },
      "execution_count": 37,
      "outputs": []
    },
    {
      "cell_type": "code",
      "source": [
        "service_context = ServiceContext.from_defaults(llm_predictor=llm_predictor, embed_model=embed_model)\n",
        "# train for tumo\n",
        "index_tumo = GPTVectorStoreIndex.from_documents(tumo, service_context=service_context, prompt_helper=prompt_helper)\n",
        "# train for bet\n",
        "index_bet = GPTVectorStoreIndex.from_documents(bet, service_context=service_context, prompt_helper=prompt_helper)"
      ],
      "metadata": {
        "id": "woxcMHEY5zFg"
      },
      "execution_count": 38,
      "outputs": []
    },
    {
      "cell_type": "code",
      "source": [
        "import logging\n",
        "logging.getLogger().setLevel(logging.CRITICAL)"
      ],
      "metadata": {
        "id": "7eFwhquj51WM"
      },
      "execution_count": 39,
      "outputs": []
    },
    {
      "cell_type": "code",
      "source": [
        "# #test\n",
        "# query_engine_tumo = index_tumo.as_query_engine()\n",
        "# prompt = \" what dental services does my insurance cover? \"\n",
        "# response = query_engine_tumo.query(prompt)\n",
        "# print(response)"
      ],
      "metadata": {
        "id": "x4Rlv9lfEfGr"
      },
      "execution_count": 40,
      "outputs": []
    },
    {
      "cell_type": "code",
      "source": [
        "# for tumo\n",
        "query_engine_tumo = index_tumo.as_query_engine()\n",
        "# for bet\n",
        "query_engine_bet = index_bet.as_query_engine()"
      ],
      "metadata": {
        "id": "XsXlelH6AmJS"
      },
      "execution_count": 41,
      "outputs": []
    },
    {
      "cell_type": "code",
      "source": [
        "import locale\n",
        "locale.getpreferredencoding = lambda: \"UTF-8\""
      ],
      "metadata": {
        "id": "bgymcNovjvRS"
      },
      "execution_count": 42,
      "outputs": []
    },
    {
      "cell_type": "code",
      "source": [
        "pip install deep_translator"
      ],
      "metadata": {
        "id": "j3hCxu_vkK1e",
        "colab": {
          "base_uri": "https://localhost:8080/"
        },
        "outputId": "a402277b-1534-4781-e3ac-a9ac2b84f787"
      },
      "execution_count": 43,
      "outputs": [
        {
          "output_type": "stream",
          "name": "stdout",
          "text": [
            "Requirement already satisfied: deep_translator in /usr/local/lib/python3.10/dist-packages (1.11.4)\n",
            "Requirement already satisfied: beautifulsoup4<5.0.0,>=4.9.1 in /usr/local/lib/python3.10/dist-packages (from deep_translator) (4.11.2)\n",
            "Requirement already satisfied: requests<3.0.0,>=2.23.0 in /usr/local/lib/python3.10/dist-packages (from deep_translator) (2.27.1)\n",
            "Requirement already satisfied: soupsieve>1.2 in /usr/local/lib/python3.10/dist-packages (from beautifulsoup4<5.0.0,>=4.9.1->deep_translator) (2.4.1)\n",
            "Requirement already satisfied: urllib3<1.27,>=1.21.1 in /usr/local/lib/python3.10/dist-packages (from requests<3.0.0,>=2.23.0->deep_translator) (1.26.16)\n",
            "Requirement already satisfied: certifi>=2017.4.17 in /usr/local/lib/python3.10/dist-packages (from requests<3.0.0,>=2.23.0->deep_translator) (2023.5.7)\n",
            "Requirement already satisfied: charset-normalizer~=2.0.0 in /usr/local/lib/python3.10/dist-packages (from requests<3.0.0,>=2.23.0->deep_translator) (2.0.12)\n",
            "Requirement already satisfied: idna<4,>=2.5 in /usr/local/lib/python3.10/dist-packages (from requests<3.0.0,>=2.23.0->deep_translator) (3.4)\n"
          ]
        }
      ]
    },
    {
      "cell_type": "code",
      "source": [
        "from deep_translator import GoogleTranslator"
      ],
      "metadata": {
        "id": "w2tc1ilGj3Sq"
      },
      "execution_count": 44,
      "outputs": []
    },
    {
      "cell_type": "code",
      "source": [
        "translator_am = GoogleTranslator(source='en', target='hy')\n",
        "translator_en = GoogleTranslator(source='hy', target='en')"
      ],
      "metadata": {
        "id": "AE9t-18rj8mU"
      },
      "execution_count": 45,
      "outputs": []
    },
    {
      "cell_type": "code",
      "source": [
        "import locale\n",
        "locale.getpreferredencoding = lambda: \"UTF-8\""
      ],
      "metadata": {
        "id": "PvUbRgGJ1g8o"
      },
      "execution_count": 46,
      "outputs": []
    },
    {
      "cell_type": "code",
      "source": [
        "! pip install pytelegrambotapi aiogram\n"
      ],
      "metadata": {
        "colab": {
          "base_uri": "https://localhost:8080/"
        },
        "id": "qfTUto1Ax7zk",
        "outputId": "cacc71b4-bd92-4255-9478-cde0aea8eb4d"
      },
      "execution_count": 47,
      "outputs": [
        {
          "output_type": "stream",
          "name": "stdout",
          "text": [
            "Requirement already satisfied: pytelegrambotapi in /usr/local/lib/python3.10/dist-packages (4.12.0)\n",
            "Requirement already satisfied: aiogram in /usr/local/lib/python3.10/dist-packages (2.25.1)\n",
            "Requirement already satisfied: requests in /usr/local/lib/python3.10/dist-packages (from pytelegrambotapi) (2.27.1)\n",
            "Requirement already satisfied: aiohttp<3.9.0,>=3.8.0 in /usr/local/lib/python3.10/dist-packages (from aiogram) (3.8.4)\n",
            "Requirement already satisfied: Babel<2.10.0,>=2.9.1 in /usr/local/lib/python3.10/dist-packages (from aiogram) (2.9.1)\n",
            "Requirement already satisfied: certifi>=2021.10.8 in /usr/local/lib/python3.10/dist-packages (from aiogram) (2023.5.7)\n",
            "Requirement already satisfied: magic-filter>=1.0.9 in /usr/local/lib/python3.10/dist-packages (from aiogram) (1.0.9)\n",
            "Requirement already satisfied: attrs>=17.3.0 in /usr/local/lib/python3.10/dist-packages (from aiohttp<3.9.0,>=3.8.0->aiogram) (23.1.0)\n",
            "Requirement already satisfied: charset-normalizer<4.0,>=2.0 in /usr/local/lib/python3.10/dist-packages (from aiohttp<3.9.0,>=3.8.0->aiogram) (2.0.12)\n",
            "Requirement already satisfied: multidict<7.0,>=4.5 in /usr/local/lib/python3.10/dist-packages (from aiohttp<3.9.0,>=3.8.0->aiogram) (6.0.4)\n",
            "Requirement already satisfied: async-timeout<5.0,>=4.0.0a3 in /usr/local/lib/python3.10/dist-packages (from aiohttp<3.9.0,>=3.8.0->aiogram) (4.0.2)\n",
            "Requirement already satisfied: yarl<2.0,>=1.0 in /usr/local/lib/python3.10/dist-packages (from aiohttp<3.9.0,>=3.8.0->aiogram) (1.9.2)\n",
            "Requirement already satisfied: frozenlist>=1.1.1 in /usr/local/lib/python3.10/dist-packages (from aiohttp<3.9.0,>=3.8.0->aiogram) (1.3.3)\n",
            "Requirement already satisfied: aiosignal>=1.1.2 in /usr/local/lib/python3.10/dist-packages (from aiohttp<3.9.0,>=3.8.0->aiogram) (1.3.1)\n",
            "Requirement already satisfied: pytz>=2015.7 in /usr/local/lib/python3.10/dist-packages (from Babel<2.10.0,>=2.9.1->aiogram) (2022.7.1)\n",
            "Requirement already satisfied: urllib3<1.27,>=1.21.1 in /usr/local/lib/python3.10/dist-packages (from requests->pytelegrambotapi) (1.26.16)\n",
            "Requirement already satisfied: idna<4,>=2.5 in /usr/local/lib/python3.10/dist-packages (from requests->pytelegrambotapi) (3.4)\n"
          ]
        }
      ]
    },
    {
      "cell_type": "code",
      "source": [
        "import telebot\n",
        "from telebot import TeleBot\n",
        "from telebot import types\n",
        "from aiogram.types import ReplyKeyboardMarkup, ReplyKeyboardRemove, KeyboardButton\n",
        "\n",
        "API_TOKEN = '6156036993:AAFP6oS_-bBJdLv1YDWUTto0PdCoZYaEihU'\n",
        "bot = telebot.TeleBot(API_TOKEN)\n",
        "\n",
        "selected_option = None  # Global variable to store the selected option\n",
        "\n",
        "button_tumo = types.InlineKeyboardButton('Health_1', callback_data='Health_1')\n",
        "button_bet = types.InlineKeyboardButton('Health_2', callback_data='Health_2')\n",
        "keyboard = types.InlineKeyboardMarkup()\n",
        "keyboard.add(button_tumo)\n",
        "keyboard.add(button_bet)\n",
        "\n",
        "@bot.message_handler(commands=['start'])\n",
        "def start(message):\n",
        "    global selected_option\n",
        "    selected_option = None  # Reset the selected option\n",
        "    bot.send_message(message.chat.id, 'Բարև, ես քեզ կարղ եմ օգնել ընտրել քեզ հարմար առողջապահական  ապահովաագրության տեսակ: Ընտրիր ցանկանանը', reply_markup=keyboard)\n",
        "\n",
        "@bot.callback_query_handler(func=lambda call: call.data == 'Health_1')\n",
        "def handle_health_1_callback(call):\n",
        "    global selected_option\n",
        "    selected_option = 'Health_1'\n",
        "    bot.send_message(call.message.chat.id, 'Դուք ընտրել էք համար 1 ապահովագրության տեսակը, և ես պատրաստ եմ պատասխանել ձեր հարցերին')\n",
        "\n",
        "@bot.callback_query_handler(func=lambda call: call.data == 'Health_2')\n",
        "def handle_health_2_callback(call):\n",
        "    global selected_option\n",
        "    selected_option = 'Health_2'\n",
        "    bot.send_message(call.message.chat.id, 'Դուք ընտրել էք համար 2 ապահովագրության տեսակը, և ես պատրասխանել ձեր հարցերին')\n",
        "\n",
        "@bot.message_handler(func=lambda message: True)\n",
        "def generate_response(message):\n",
        "    global selected_option\n",
        "\n",
        "    if selected_option == 'Health_1':\n",
        "        input_text = translator_en.translate(message.text)\n",
        "\n",
        "        query_engine_tumo = index_tumo.as_query_engine()\n",
        "        test = \"is the question related to your custom knowledge?\"\n",
        "        response_test = query_engine_tumo.query(input_text + test)\n",
        "        if str(response_test) == 'yes':\n",
        "            response = query_engine_tumo.query(input_text)\n",
        "            bot.reply_to(message, translator_am.translate(str(response)))\n",
        "        else:\n",
        "            response = 'Կներեք, չեմ կարող կատարել այդ խնդրանքը, քանի որ տրամադրված ՏԵՂԵԿԱՏՎՈՒԹՅՈՒՆԸ չի վերաբերում առողջության ապահովագրությանը:'\n",
        "            bot.reply_to(message, response)\n",
        "\n",
        "    if selected_option == 'Health_2':\n",
        "        input_text = translator_en.translate(message.text)\n",
        "\n",
        "        query_engine_bet = index_bet.as_query_engine()\n",
        "        test = \"is the question related to your custom knowledge?\"\n",
        "        response_test = query_engine_bet.query(input_text + test)\n",
        "        if str(response_test) == 'yes':\n",
        "            response = query_engine_bet.query(input_text)\n",
        "            bot.reply_to(message, translator_am.translate(str(response)))\n",
        "        else:\n",
        "            response = 'Կներեք, չեմ կարող կատարել այդ խնդրանքը, քանի որ տրամադրված ՏԵՂԵԿԱՏՎՈՒԹՅՈՒՆԸ չի վերաբերում առողջության ապահովագրությանը:'\n",
        "            bot.reply_to(message, response)\n",
        "\n",
        "\n"
      ],
      "metadata": {
        "id": "ZLY_9cgEKduZ"
      },
      "execution_count": 49,
      "outputs": []
    },
    {
      "cell_type": "code",
      "source": [
        "# and here we actually run it\n",
        "bot.polling()"
      ],
      "metadata": {
        "id": "zchqA8o7x74o"
      },
      "execution_count": 50,
      "outputs": []
    },
    {
      "cell_type": "code",
      "source": [],
      "metadata": {
        "id": "JPQVkOwLx76k"
      },
      "execution_count": null,
      "outputs": []
    },
    {
      "cell_type": "code",
      "source": [],
      "metadata": {
        "id": "4NMougU1x78b"
      },
      "execution_count": null,
      "outputs": []
    },
    {
      "cell_type": "code",
      "source": [],
      "metadata": {
        "id": "zDaGmJNFx7-N"
      },
      "execution_count": null,
      "outputs": []
    },
    {
      "cell_type": "code",
      "source": [],
      "metadata": {
        "id": "mmVZv2Xhx7_8"
      },
      "execution_count": null,
      "outputs": []
    },
    {
      "cell_type": "code",
      "source": [
        "'Sorry, I’m afraid I cannot fulfill that request as the provided CONTEXT INFORMATION does not relate to health insurance'"
      ],
      "metadata": {
        "id": "SrLpHOirFVI3"
      },
      "execution_count": null,
      "outputs": []
    },
    {
      "cell_type": "code",
      "source": [
        "# import locale\n",
        "# locale.getpreferredencoding = lambda: \"UTF-8\""
      ],
      "metadata": {
        "id": "HnIlSsXEFVLy"
      },
      "execution_count": null,
      "outputs": []
    },
    {
      "cell_type": "code",
      "source": [
        "# pip install deep_translator"
      ],
      "metadata": {
        "id": "9vVMshpDFVUY",
        "colab": {
          "base_uri": "https://localhost:8080/"
        },
        "outputId": "f105a607-6442-44ff-9d72-0581621f52ab"
      },
      "execution_count": null,
      "outputs": [
        {
          "output_type": "stream",
          "name": "stdout",
          "text": [
            "Collecting deep_translator\n",
            "  Downloading deep_translator-1.11.4-py3-none-any.whl (42 kB)\n",
            "\u001b[?25l     \u001b[90m━━━━━━━━━━━━━━━━━━━━━━━━━━━━━━━━━━━━━━━━\u001b[0m \u001b[32m0.0/42.3 kB\u001b[0m \u001b[31m?\u001b[0m eta \u001b[36m-:--:--\u001b[0m\r\u001b[2K     \u001b[90m━━━━━━━━━━━━━━━━━━━━━━━━━━━━━━━━━━━━━━━━\u001b[0m \u001b[32m42.3/42.3 kB\u001b[0m \u001b[31m4.7 MB/s\u001b[0m eta \u001b[36m0:00:00\u001b[0m\n",
            "\u001b[?25hRequirement already satisfied: beautifulsoup4<5.0.0,>=4.9.1 in /usr/local/lib/python3.10/dist-packages (from deep_translator) (4.11.2)\n",
            "Requirement already satisfied: requests<3.0.0,>=2.23.0 in /usr/local/lib/python3.10/dist-packages (from deep_translator) (2.27.1)\n",
            "Requirement already satisfied: soupsieve>1.2 in /usr/local/lib/python3.10/dist-packages (from beautifulsoup4<5.0.0,>=4.9.1->deep_translator) (2.4.1)\n",
            "Requirement already satisfied: urllib3<1.27,>=1.21.1 in /usr/local/lib/python3.10/dist-packages (from requests<3.0.0,>=2.23.0->deep_translator) (1.26.16)\n",
            "Requirement already satisfied: certifi>=2017.4.17 in /usr/local/lib/python3.10/dist-packages (from requests<3.0.0,>=2.23.0->deep_translator) (2023.5.7)\n",
            "Requirement already satisfied: charset-normalizer~=2.0.0 in /usr/local/lib/python3.10/dist-packages (from requests<3.0.0,>=2.23.0->deep_translator) (2.0.12)\n",
            "Requirement already satisfied: idna<4,>=2.5 in /usr/local/lib/python3.10/dist-packages (from requests<3.0.0,>=2.23.0->deep_translator) (3.4)\n",
            "Installing collected packages: deep_translator\n",
            "Successfully installed deep_translator-1.11.4\n"
          ]
        }
      ]
    },
    {
      "cell_type": "code",
      "source": [
        "# import os\n",
        "# import json\n",
        "# from deep_translator import GoogleTranslator"
      ],
      "metadata": {
        "id": "d6D-AK-wFVWJ"
      },
      "execution_count": null,
      "outputs": []
    },
    {
      "cell_type": "code",
      "source": [
        "#  translator = GoogleTranslator(source='auto', target='en')"
      ],
      "metadata": {
        "id": "ZNRHxZ6jFVYA"
      },
      "execution_count": null,
      "outputs": []
    },
    {
      "cell_type": "code",
      "source": [
        "# print(translator.translate(\"Կարո՞ղ եմ մեջքիս ռենտգեն անել:\"))"
      ],
      "metadata": {
        "id": "fjCc_S6QFVZs",
        "colab": {
          "base_uri": "https://localhost:8080/"
        },
        "outputId": "11ce4748-2a97-4195-eaf7-106945dd6cfe"
      },
      "execution_count": null,
      "outputs": [
        {
          "output_type": "stream",
          "name": "stdout",
          "text": [
            "Can I have an X-ray of my back?\n"
          ]
        }
      ]
    },
    {
      "cell_type": "code",
      "source": [
        "# query_engine = index.as_query_engine()\n",
        "\n",
        "# translator_to_en = GoogleTranslator(source='auto', target='en')\n",
        "# prompt_hy = \"Կարո՞ղ եմ մեջքիս ռենտգեն անել:\"\n",
        "# print(prompt_hy)\n",
        "# prompt_en = translator_to_en.translate(prompt_hy)\n",
        "# print(prompt_en)\n",
        "\n",
        "# response_en = query_engine.query(prompt_en)\n",
        "# print(response_en)\n",
        "# translator_to_hy = GoogleTranslator(source='auto', target='hy')\n",
        "# response_hy = translator_to_hy.translate(str(response_en))\n",
        "# print(response_hy)"
      ],
      "metadata": {
        "id": "uZOUJiEbFVbo",
        "colab": {
          "base_uri": "https://localhost:8080/"
        },
        "outputId": "bcede7e1-e22a-4097-df29-98a2cf730d33"
      },
      "execution_count": null,
      "outputs": [
        {
          "output_type": "stream",
          "name": "stdout",
          "text": [
            "Կարո՞ղ եմ մեջքիս ռենտգեն անել:\n",
            "Can I have an X-ray of my back?\n",
            "yes\n",
            "այո\n"
          ]
        }
      ]
    },
    {
      "cell_type": "code",
      "source": [],
      "metadata": {
        "id": "PxH4NkY6FVdP"
      },
      "execution_count": null,
      "outputs": []
    },
    {
      "cell_type": "code",
      "source": [],
      "metadata": {
        "id": "a5pMoFUYFVfI"
      },
      "execution_count": null,
      "outputs": []
    },
    {
      "cell_type": "code",
      "source": [],
      "metadata": {
        "id": "w0g8W8BFFVhF"
      },
      "execution_count": null,
      "outputs": []
    },
    {
      "cell_type": "code",
      "source": [],
      "metadata": {
        "id": "JLxl7kh3FVjv"
      },
      "execution_count": null,
      "outputs": []
    },
    {
      "cell_type": "code",
      "source": [],
      "metadata": {
        "id": "9WIzgy5aFVll"
      },
      "execution_count": null,
      "outputs": []
    },
    {
      "cell_type": "code",
      "source": [],
      "metadata": {
        "id": "E6gLYxbm517d"
      },
      "execution_count": null,
      "outputs": []
    }
  ]
}