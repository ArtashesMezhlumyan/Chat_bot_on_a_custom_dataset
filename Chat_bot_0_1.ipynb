{
 "cells": [
  {
   "cell_type": "code",
   "execution_count": 1,
   "metadata": {
    "colab": {
     "base_uri": "https://localhost:8080/"
    },
    "id": "kZ3WKIBK5PA5",
    "outputId": "9b6bbca5-eb17-47a5-8bb2-bd7c02d23abf"
   },
   "outputs": [
    {
     "name": "stdout",
     "output_type": "stream",
     "text": [
      "Tue Jun  6 14:34:30 2023       \n",
      "+-----------------------------------------------------------------------------+\n",
      "| NVIDIA-SMI 525.85.12    Driver Version: 525.85.12    CUDA Version: 12.0     |\n",
      "|-------------------------------+----------------------+----------------------+\n",
      "| GPU  Name        Persistence-M| Bus-Id        Disp.A | Volatile Uncorr. ECC |\n",
      "| Fan  Temp  Perf  Pwr:Usage/Cap|         Memory-Usage | GPU-Util  Compute M. |\n",
      "|                               |                      |               MIG M. |\n",
      "|===============================+======================+======================|\n",
      "|   0  Tesla T4            Off  | 00000000:00:04.0 Off |                    0 |\n",
      "| N/A   57C    P0    28W /  70W |      0MiB / 15360MiB |      0%      Default |\n",
      "|                               |                      |                  N/A |\n",
      "+-------------------------------+----------------------+----------------------+\n",
      "                                                                               \n",
      "+-----------------------------------------------------------------------------+\n",
      "| Processes:                                                                  |\n",
      "|  GPU   GI   CI        PID   Type   Process name                  GPU Memory |\n",
      "|        ID   ID                                                   Usage      |\n",
      "|=============================================================================|\n",
      "|  No running processes found                                                 |\n",
      "+-----------------------------------------------------------------------------+\n"
     ]
    }
   ],
   "source": [
    "!nvidia-smi"
   ]
  },
  {
   "cell_type": "code",
   "execution_count": 2,
   "metadata": {
    "id": "5i9un3Xh5QlE"
   },
   "outputs": [],
   "source": [
    "! pip install -q langchain transformers sentence_transformers llama-index\n"
   ]
  },
  {
   "cell_type": "code",
   "execution_count": 3,
   "metadata": {
    "id": "Li_RlLpu5RD3"
   },
   "outputs": [],
   "source": [
    "from llama_index import SimpleDirectoryReader, LangchainEmbedding, GPTListIndex,GPTVectorStoreIndex, PromptHelper\n",
    "from langchain.embeddings.huggingface import HuggingFaceEmbeddings\n",
    "from llama_index import LLMPredictor, ServiceContext\n",
    "import torch\n",
    "from langchain.llms.base import LLM\n",
    "from transformers import pipeline"
   ]
  },
  {
   "cell_type": "code",
   "execution_count": 4,
   "metadata": {
    "id": "s4AvZVTe5THM"
   },
   "outputs": [],
   "source": [
    "class customLLM(LLM):\n",
    "    model_name = \"google/flan-t5-large\"\n",
    "    pipeline = pipeline(\"text2text-generation\", model=model_name, device=0, model_kwargs={\"torch_dtype\":torch.bfloat16})\n",
    "\n",
    "    def _call(self, prompt, stop=None):\n",
    "        return self.pipeline(prompt, max_length=9999)[0][\"generated_text\"]\n",
    "    @property\n",
    "    def _identifying_params(self):\n",
    "        return {\"name_of_model\": self.model_name}\n",
    "    @property\n",
    "    def _llm_type(self):\n",
    "        return \"custom\"\n",
    "\n",
    "\n",
    "llm_predictor = LLMPredictor(llm=customLLM())\n"
   ]
  },
  {
   "cell_type": "code",
   "execution_count": 5,
   "metadata": {
    "id": "fgX6vvpq5UxH"
   },
   "outputs": [],
   "source": [
    "hfemb = HuggingFaceEmbeddings()\n",
    "embed_model = LangchainEmbedding(hfemb)\n"
   ]
  },
  {
   "cell_type": "code",
   "execution_count": 6,
   "metadata": {
    "id": "UCbf-O3X5Wb1"
   },
   "outputs": [],
   "source": [
    "text1 = \"\"\" McDonald's: A Global Icon of Fast Food\n",
    "\n",
    "McDonald's, the world's largest fast-food chain, has become an iconic symbol of the global food industry. With its golden arches, cheerful red and yellow logo, and distinctive menu items, McDonald's has permeated almost every corner of the world, serving billions of customers since its inception.\n",
    "\n",
    "The story of McDonald's began in 1940 when Richard and Maurice McDonald opened a small burger stand in San Bernardino, California. Initially, their restaurant focused on offering a limited menu with a strong emphasis on speed and efficiency. However, it was not until 1955 when Ray Kroc, a visionary entrepreneur, joined forces with the brothers and transformed McDonald's into a franchise business.\n",
    "\n",
    "Kroc's genius lay in recognizing the potential for standardization and mass production in the fast-food industry. He implemented a system that allowed every McDonald's location to serve the same menu items, maintaining consistency in taste and quality. This system, coupled with an aggressive marketing strategy, propelled McDonald's to unprecedented heights of success.\n",
    "\n",
    "The McDonald's menu, known for its iconic items such as the Big Mac, Quarter Pounder, and Chicken McNuggets, has evolved over the years to cater to changing consumer preferences. In recent times, the company has also made efforts to introduce healthier options, such as salads and grilled chicken sandwiches, to accommodate a more health-conscious customer base.\n",
    "\n",
    "One of the key factors contributing to McDonald's global dominance is its commitment to localization. While the core menu remains consistent worldwide, McDonald's adapts its offerings to suit local tastes and cultural preferences. For example, in India, where a significant portion of the population follows vegetarian diets, McDonald's introduced a range of vegetarian options like the McAloo Tikki and the Maharaja Mac.\n",
    "\n",
    "Beyond its culinary offerings, McDonald's has also made a significant impact on popular culture. The brand's iconic advertising campaigns, featuring memorable characters like Ronald McDonald and catchy slogans like \"I'm lovin' it,\" have permeated television screens and billboards worldwide. McDonald's has also established itself as a community gathering place, hosting birthday parties, sponsoring sports events, and supporting charitable initiatives.\n",
    "\n",
    "However, McDonald's has not been without its share of controversies. The company has faced criticism for its contribution to the rise in obesity rates, its environmental footprint, and its labor practices. In response, McDonald's has taken steps to address these concerns. They have introduced healthier menu options, made commitments to sustainable sourcing, and increased employee wages in some regions.\n",
    "\n",
    "Looking ahead, McDonald's continues to innovate and adapt to changing consumer demands. The company has embraced technology by introducing self-ordering kiosks, mobile ordering, and delivery services. Additionally, McDonald's has made significant strides in reducing its environmental impact by setting goals to minimize packaging waste and increase recycling.\n",
    "\n",
    "In conclusion, McDonald's has emerged as a global icon of fast food, captivating billions of customers worldwide. Its commitment to consistency, localization, and customer satisfaction has made it a dominant force in the industry. While it faces challenges and controversies, McDonald's remains an influential player shaping the fast-food landscape and continuing to evolve to meet the needs of its diverse consumer base.\"\"\""
   ]
  },
  {
   "cell_type": "code",
   "execution_count": 47,
   "metadata": {
    "id": "S6dl39GcIM_C"
   },
   "outputs": [],
   "source": [
    "#pip install PyPDF2"
   ]
  },
  {
   "cell_type": "code",
   "execution_count": 46,
   "metadata": {
    "id": "xO74RtS0HdiF"
   },
   "outputs": [],
   "source": [
    "# # importing required modules\n",
    "# from PyPDF2 import PdfReader\n",
    "  \n",
    "# # creating a pdf reader object\n",
    "# reader = PdfReader('sbc-sample.pdf')\n",
    "  \n",
    "# # Initialize an empty string to store the combined text\n",
    "# combined_text = \"\"\n",
    "\n",
    "# # Iterate over all pages\n",
    "# for page in reader.pages:\n",
    "#     # Extracting text from each page\n",
    "#     text = page.extract_text()\n",
    "#     # Append the text to the combined_text string\n",
    "#     combined_text += text\n",
    "\n",
    "# # Print the combined text\n",
    "# print(combined_text)"
   ]
  },
  {
   "cell_type": "code",
   "execution_count": 36,
   "metadata": {
    "id": "hwyjsc9U5u_w"
   },
   "outputs": [],
   "source": [
    "#documents = SimpleDirectoryReader('data').load_data()\n",
    "\n",
    "from llama_index import Document\n",
    "\n",
    "text_list = [text1]\n",
    "\n",
    "documents = [Document(t) for t in text_list]"
   ]
  },
  {
   "cell_type": "code",
   "execution_count": 37,
   "metadata": {
    "id": "y_2Dl63v5wzb"
   },
   "outputs": [],
   "source": [
    "# # set number of output tokens\n",
    "# num_output = 500\n",
    "# # set maximum input size\n",
    "# max_input_size = 512\n",
    "# # set maximum chunk overlap\n",
    "# max_chunk_overlap = 15\n",
    "\n",
    "\n",
    "# prompt_helper = PromptHelper(max_input_size, num_output, max_chunk_overlap)\n",
    "     "
   ]
  },
  {
   "cell_type": "code",
   "execution_count": 38,
   "metadata": {
    "id": "woxcMHEY5zFg"
   },
   "outputs": [],
   "source": [
    "#index = GPTSimpleVectorIndex(documents, embed_model=embed_model, llm_predictor=llm_predictor)\n",
    "\n",
    "#index = GPTListIndex.from_documents(documents, embed_model=embed_model, llm_predictor=llm_predictor)\n",
    "\n",
    "#index.save_to_disk('index.json')\n",
    "\n",
    "service_context = ServiceContext.from_defaults(llm_predictor=llm_predictor, embed_model=embed_model)\n",
    "index = GPTVectorStoreIndex.from_documents(documents, service_context=service_context)\n"
   ]
  },
  {
   "cell_type": "code",
   "execution_count": 39,
   "metadata": {
    "id": "7eFwhquj51WM"
   },
   "outputs": [],
   "source": [
    "import logging\n",
    "\n",
    "logging.getLogger().setLevel(logging.CRITICAL)"
   ]
  },
  {
   "cell_type": "code",
   "execution_count": 40,
   "metadata": {
    "id": "VwWo9L3I51xQ"
   },
   "outputs": [],
   "source": [
    "#response = index.query( \"What's the cost of Whisper model?\") \n"
   ]
  },
  {
   "cell_type": "code",
   "execution_count": 51,
   "metadata": {
    "colab": {
     "base_uri": "https://localhost:8080/"
    },
    "id": "XsXlelH6AmJS",
    "outputId": "85aa5d0a-5f88-405f-f83d-c982d54b5fc1"
   },
   "outputs": [
    {
     "name": "stdout",
     "output_type": "stream",
     "text": [
      "McDonalds was founded by James McDonald\n"
     ]
    }
   ],
   "source": [
    "query_engine = index.as_query_engine()\n",
    "prompt = \"who was the founder McDonalds\"\n",
    "response = query_engine.query(prompt)\n",
    "print(response)\n"
   ]
  },
  {
   "cell_type": "code",
   "execution_count": null,
   "metadata": {
    "id": "SABpcXqbFVGa"
   },
   "outputs": [],
   "source": []
  },
  {
   "cell_type": "code",
   "execution_count": null,
   "metadata": {
    "id": "SrLpHOirFVI3"
   },
   "outputs": [],
   "source": []
  }
 ],
 "metadata": {
  "accelerator": "GPU",
  "colab": {
   "gpuType": "T4",
   "provenance": []
  },
  "kernelspec": {
   "display_name": "Python 3 (ipykernel)",
   "language": "python",
   "name": "python3"
  },
  "language_info": {
   "codemirror_mode": {
    "name": "ipython",
    "version": 3
   },
   "file_extension": ".py",
   "mimetype": "text/x-python",
   "name": "python",
   "nbconvert_exporter": "python",
   "pygments_lexer": "ipython3",
   "version": "3.10.9"
  }
 },
 "nbformat": 4,
 "nbformat_minor": 1
}
